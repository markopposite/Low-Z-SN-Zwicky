{
 "cells": [
  {
   "cell_type": "code",
   "execution_count": 2,
   "metadata": {},
   "outputs": [],
   "source": [
    "import numpy as np\n",
    "import matplotlib.pyplot as plt\n",
    "import pymultinest as pmn\n",
    "import corner\n",
    "import sys,glob\n",
    "\n",
    "\n",
    "from astropy.cosmology import FlatLambdaCDM\n",
    "from exoticDE_fit.genclass_cosm import Evaluate_cosmology"
   ]
  },
  {
   "cell_type": "code",
   "execution_count": 3,
   "metadata": {
    "scrolled": true
   },
   "outputs": [],
   "source": [
    "model = 'slowroll'\n",
    "data_dict = {'CMB':'Planck-la', 'SN':'WFIRST', 'lowzSN':'ZTF-MSIP', 'BAO':'Not yet', 'H0':[73.24, 0.024],'Om':[0.3,0.1]}\n",
    "probes = [False, True, False, False, False, True]\n",
    "theta_fid = [0.3, 0.1, 70]\n",
    "\n",
    "ec = Evaluate_cosmology(model=model, theta_fid=theta_fid, datasets=probes, surveys=data_dict)\n",
    "ec.run_nest()"
   ]
  },
  {
   "cell_type": "code",
   "execution_count": null,
   "metadata": {},
   "outputs": [],
   "source": []
  },
  {
   "cell_type": "code",
   "execution_count": null,
   "metadata": {},
   "outputs": [],
   "source": []
  }
 ],
 "metadata": {
  "kernelspec": {
   "display_name": "Python 3",
   "language": "python",
   "name": "python3"
  },
  "language_info": {
   "codemirror_mode": {
    "name": "ipython",
    "version": 3
   },
   "file_extension": ".py",
   "mimetype": "text/x-python",
   "name": "python",
   "nbconvert_exporter": "python",
   "pygments_lexer": "ipython3",
   "version": "3.6.5"
  }
 },
 "nbformat": 4,
 "nbformat_minor": 2
}
