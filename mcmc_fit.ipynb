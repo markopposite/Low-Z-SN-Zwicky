{
 "cells": [
  {
   "cell_type": "code",
   "execution_count": 1,
   "metadata": {},
   "outputs": [],
   "source": [
    "import numpy as np \n",
    "import matplotlib.pyplot as plt \n",
    "import pymultinest as pmn\n",
    "import glob\n",
    "import sys\n",
    "import os\n",
    "import corner\n",
    "\n",
    "# from scipy.integrate import quad\n",
    "from astropy.cosmology import wCDM, FlatwCDM\n",
    "from astropy.cosmology import w0waCDM, Flatw0waCDM"
   ]
  },
  {
   "cell_type": "code",
   "execution_count": 9,
   "metadata": {},
   "outputs": [],
   "source": [
    "# !which python "
   ]
  },
  {
   "cell_type": "code",
   "execution_count": 10,
   "metadata": {},
   "outputs": [],
   "source": [
    "# Flatw0waCDM(70, 0.3)"
   ]
  },
  {
   "cell_type": "code",
   "execution_count": 2,
   "metadata": {},
   "outputs": [
    {
     "name": "stdout",
     "output_type": "stream",
     "text": [
      "31\n",
      "[33.17531838 33.57453613 33.91257186 34.20582368 34.58391177 35.00530935\n",
      " 35.27640666 35.66641731 36.06022277 36.3960782  36.77915423 37.14602528\n",
      " 37.49606585 37.85772565 38.24468549 38.619915   38.99907248 39.38960476\n",
      " 39.78077269 40.16596422 40.57038455 40.97210759 41.37999371 41.79747283\n",
      " 42.21389327 42.64065537 43.06604644 43.49922938 43.93421349 44.36841052\n",
      " 44.80507182] mag\n"
     ]
    }
   ],
   "source": [
    "### Generate mu's by hand\n",
    "data_path = '../jla_data/'\n",
    "jla_bins = np.loadtxt(data_path + 'dist_binned.txt')\n",
    "cov_mat = np.loadtxt(data_path + 'covmat_binned.txt')\n",
    "\n",
    "\n",
    "\n",
    "\n",
    "# je = wwcdm.distmod(z=np.arange(0.01,.1,.003))\n",
    "# je = wwcdm.distmod(z=np.linspace(0.01,1.3,31))\n",
    "wwcdm = wCDM(H0=70., Om0=0.3, Ode0=.7, w0= -1.)\n",
    "je = wwcdm.distmod((jla_bins[:,0]))\n",
    "print (len(je))\n",
    "\n",
    "l = np.sort(je)\n",
    "print (l)\n",
    "\n",
    "np.savetxt('by_hand.txt', l)\n",
    "j = np.loadtxt('by_hand.txt', usecols = 0)"
   ]
  },
  {
   "cell_type": "code",
   "execution_count": 3,
   "metadata": {},
   "outputs": [],
   "source": [
    "#define all the data here (currently SN only)\n",
    "data_path = '../jla_data/'\n",
    "jla_bins = np.loadtxt(data_path + 'dist_binned.txt')\n",
    "cov_mat = np.loadtxt(data_path + 'covmat_binned.txt')\n",
    "\n",
    "vs = np.vstack([sorted(jla_bins[:, 0]), sorted(jla_bins[:, 1])]).T # Transpose jla summary data\n",
    "vv = np.vstack([sorted(jla_bins[:, 0]), (j)]).T # Transpose using the by-hand array\n",
    "\n",
    "np.savetxt('../jla_data/dist_binned_A.txt', vs) # Save the transpose matrix\n",
    "jla_bins_a = np.loadtxt('../jla_data/dist_binned_A.txt') # Load the tranpose matrix\n",
    "np.savetxt('../jla_data/dist_binned_B.txt', vv) # Save the transpose matrix using the by-hand array\n",
    "jla_bins_b = np.loadtxt('../jla_data/dist_binned_B.txt')# Load the transpose by-hand matrix\n",
    "\n",
    "cov_mat *= 1e-6\n",
    "Cinv = np.linalg.inv(cov_mat)"
   ]
  },
  {
   "cell_type": "code",
   "execution_count": 4,
   "metadata": {},
   "outputs": [
    {
     "name": "stdout",
     "output_type": "stream",
     "text": [
      "[33.17531838 33.57453613 33.91257186 34.20582368 34.58391177 35.00530935\n",
      " 35.27640666 35.66641731 36.06022277 36.3960782  36.77915423 37.14602528\n",
      " 37.49606585 37.85772565 38.24468549 38.619915   38.99907248 39.38960476\n",
      " 39.78077269 40.16596422 40.57038455 40.97210759 41.37999371 41.79747283\n",
      " 42.21389327 42.64065537 43.06604644 43.49922938 43.93421349 44.36841052\n",
      " 44.80507182]\n"
     ]
    }
   ],
   "source": [
    "print (jla_bins_b[:,1])"
   ]
  },
  {
   "cell_type": "code",
   "execution_count": 12,
   "metadata": {},
   "outputs": [],
   "source": [
    "#define the likelihood and the prior in this cell\n",
    "#currently only for wCDM\n",
    "\n",
    "\n",
    "def llhood(model_param, ndim, npar):\n",
    "    \"\"\"\n",
    "    This is the function where we define the log likelihood \n",
    "    log(Lhood) = -0.5*chisquare\n",
    "    \n",
    "    Parameters\n",
    "    ----------\n",
    "    model_param : sequence\n",
    "        sequence of model parameters (Om, w, H0, M)\n",
    "        in a wCDM    \n",
    "    ndim : integer\n",
    "         length of model_params\n",
    "    npar : integer\n",
    "        The number of parameters \n",
    "    \"\"\"\n",
    "    \n",
    "    ### Calculate mu using priors and z from jla\n",
    "    om, w, h0, M = [model_param[i] for i in range(4)]\n",
    "#     wc = wCDM(h0, om, 1-om, w0=w)  \n",
    "    wc = FlatwCDM(h0, om, w0=w)\n",
    "    dl_mpc = wc.luminosity_distance(jla_bins[:,0]).value # Using jla data\n",
    "    mu_th = 5*np.log10(dl_mpc) + 25.\n",
    "    \n",
    "    ### Calulate chi2 using (mu_th) - (mu_some_input_such_as_jla) \n",
    "#     dif_arr = mu_th - jla_bins_a[:,1] + M # Using jla data\n",
    "    dif_arr = mu_th - jla_bins_b[:,1] + M # Using by-hand data\n",
    "    chisq = np.dot(dif_arr.T, np.dot(Cinv, dif_arr)) + ((om - 0.3)**2.)/((1e-15)**2.)\n",
    "    return -0.5*chisq\n",
    "\n",
    "def prior(cube, ndim, npar):\n",
    "    \"\"\"\n",
    "    Define the prior for each parameter\n",
    "    i.e. before doing the experiment what do we know about these parameters\n",
    "    \"\"\"\n",
    "    cube[0]  = cube[0]*1\n",
    "    cube[1]  = cube[1]*4. - 2.\n",
    "    cube[2]  = cube[2]*50. + 50.\n",
    "#     cube[3]  = cube[3]*4. - 2.  \n",
    "    cube[3]  = cube[3]*0.00000000000001"
   ]
  },
  {
   "cell_type": "code",
   "execution_count": 13,
   "metadata": {},
   "outputs": [],
   "source": [
    "#prefix for filenames\n",
    "prefix = 'jla_test2'\n",
    "chain_dir = '/Users/markpoe/ZTF/lowzSN/notebooks/chains/' + prefix + '/'\n",
    "\n",
    "if not os.path.exists(chain_dir):\n",
    "    os.makedirs(chain_dir)"
   ]
  },
  {
   "cell_type": "code",
   "execution_count": 14,
   "metadata": {},
   "outputs": [],
   "source": [
    "### Remember to reset live points in run.py to n_live_points = 400; when using this script"
   ]
  },
  {
   "cell_type": "code",
   "execution_count": 15,
   "metadata": {},
   "outputs": [],
   "source": [
    "#running the nested sampling algorithm\n",
    "#the verbose argument is to see how the sampler is progressing \n",
    "pmn.run(llhood, prior, 4, verbose=True, outputfiles_basename=chain_dir)"
   ]
  },
  {
   "cell_type": "code",
   "execution_count": 17,
   "metadata": {},
   "outputs": [
    {
     "name": "stdout",
     "output_type": "stream",
     "text": [
      "/Users/markpoe/ZTF/lowzSN/notebooks/chains/jla_test2/\n"
     ]
    },
    {
     "data": {
      "image/png": "[encoded data removed]",
      "text/plain": [
       "<Figure size 396x396 with 4 Axes>"
      ]
     },
     "metadata": {},
     "output_type": "display_data"
    }
   ],
   "source": [
    "#a quick plotting function\n",
    "data = np.loadtxt(chain_dir+'post_equal_weights.dat')\n",
    "print (chain_dir)\n",
    "# figure = corner.corner(data, smooth=1, labels=['om', 'w0', 'h0', 'M', 'llhood'], color='b')\n",
    "figure = corner.corner(data[:,[0,1]], smooth=1, levels=(1 - np.exp(-0.5),1 - np.exp(-2.) ), labels=['om', 'w','h0', 'M', 'llhood'],show_titles=True, truths=[.3,-1.,70.,None,None])\n",
    "# figure.savefig(\"test.png\")"
   ]
  },
  {
   "cell_type": "code",
   "execution_count": null,
   "metadata": {},
   "outputs": [],
   "source": []
  },
  {
   "cell_type": "code",
   "execution_count": 184,
   "metadata": {},
   "outputs": [
    {
     "name": "stdout",
     "output_type": "stream",
     "text": [
      "  analysing data from /Users/markpoe/ZTF/lowzSN/notebooks/chains/jla_wcdm-m_zero.txt\n",
      "{'log_likelihood': -13.369410361606661, 'parameters': [0.23060258596184913, -0.8846281733626629, 75.69136663740935, 0.16661109049594458]}\n",
      "[[ 8.78772072e-99  4.78075120e+02  1.33264363e-01 -2.14637041e-01\n",
      "   9.14641678e+01  1.04649472e+00]\n",
      " [ 9.18748718e-99  4.77981146e+02  4.95154858e-02 -1.51110649e+00\n",
      "   8.99387747e+01  3.77653122e-01]\n",
      " [ 9.35037925e-99  4.77940997e+02  5.82380235e-01 -1.85930848e+00\n",
      "   8.17389101e+01  6.92536831e-01]\n",
      " ...\n",
      " [ 6.78834232e-04  2.73152474e+01  1.19684788e-01 -6.85955696e-01\n",
      "   9.67365888e+01  7.20431949e-01]\n",
      " [ 7.29340266e-04  2.71717206e+01  1.21398356e-01 -7.12305312e-01\n",
      "   9.72522056e+01  7.22721450e-01]\n",
      " [ 8.51424885e-04  2.68621788e+01  1.77288830e-01 -7.69687266e-01\n",
      "   9.59381737e+01  6.92018091e-01]]\n"
     ]
    }
   ],
   "source": [
    "# class pymultinest.analyse.Analyzer\n",
    "\n",
    "# create analyzer object\n",
    "a = pmn.analyse.Analyzer(4, outputfiles_basename = chain_dir+prefix)\n",
    "\n",
    "# get a dictionary containing information about\n",
    "#   the logZ and its errors\n",
    "#   the individual modes and their parameters\n",
    "#   quantiles of the parameter posteriors\n",
    "stats = a.get_stats()\n",
    "\n",
    "# get the best fit (highest likelihood) point\n",
    "bestfit_params = a.get_best_fit()\n",
    "\n",
    "# iterate through the \"posterior chain\"\n",
    "# for params in a.get_equal_weighted_posterior():\n",
    "#         print (params)\n",
    "\n",
    "print (bestfit_params)\n",
    "\n",
    "data_a = a.get_data()\n",
    "print (data_a)\n"
   ]
  },
  {
   "cell_type": "code",
   "execution_count": 2,
   "metadata": {},
   "outputs": [],
   "source": [
    "om = .3"
   ]
  },
  {
   "cell_type": "code",
   "execution_count": 3,
   "metadata": {},
   "outputs": [
    {
     "data": {
      "text/plain": [
       "0.0"
      ]
     },
     "execution_count": 3,
     "metadata": {},
     "output_type": "execute_result"
    }
   ],
   "source": [
    "((om - 0.3)**2./(1e-15)**2.)"
   ]
  },
  {
   "cell_type": "code",
   "execution_count": null,
   "metadata": {},
   "outputs": [],
   "source": []
  },
  {
   "cell_type": "code",
   "execution_count": 5,
   "metadata": {},
   "outputs": [],
   "source": []
  }
 ],
 "metadata": {
  "kernelspec": {
   "display_name": "Python 3",
   "language": "python",
   "name": "python3"
  },
  "language_info": {
   "codemirror_mode": {
    "name": "ipython",
    "version": 3
   },
   "file_extension": ".py",
   "mimetype": "text/x-python",
   "name": "python",
   "nbconvert_exporter": "python",
   "pygments_lexer": "ipython3",
   "version": "3.6.5"
  }
 },
 "nbformat": 4,
 "nbformat_minor": 2
}
